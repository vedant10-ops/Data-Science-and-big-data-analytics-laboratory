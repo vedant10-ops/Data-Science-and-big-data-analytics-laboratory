{
 "cells": [
  {
   "cell_type": "code",
   "execution_count": 1,
   "id": "ddfa41de",
   "metadata": {},
   "outputs": [],
   "source": [
    "import pandas as pd\n"
   ]
  },
  {
   "cell_type": "code",
   "execution_count": 2,
   "id": "2bff46a9",
   "metadata": {},
   "outputs": [],
   "source": [
    "csv_url = 'https://archive.ics.uci.edu/ml/machine-learning-databases/iris/iris.data'\n",
    "column_names = ['sepal_length', 'sepal_width', 'petal_length', 'petal_width', 'species']\n",
    "iris_data = pd.read_csv(csv_url, names=column_names)"
   ]
  },
  {
   "cell_type": "code",
   "execution_count": 3,
   "id": "1e66777e",
   "metadata": {},
   "outputs": [],
   "source": [
    "iris_data_encoded = pd.get_dummies(iris_data, columns=['species'])\n"
   ]
  },
  {
   "cell_type": "code",
   "execution_count": 6,
   "id": "d8557465",
   "metadata": {},
   "outputs": [
    {
     "name": "stdout",
     "output_type": "stream",
     "text": [
      "     sepal_length  sepal_width  petal_length  petal_width  \\\n",
      "145           6.7          3.0           5.2          2.3   \n",
      "146           6.3          2.5           5.0          1.9   \n",
      "147           6.5          3.0           5.2          2.0   \n",
      "148           6.2          3.4           5.4          2.3   \n",
      "149           5.9          3.0           5.1          1.8   \n",
      "\n",
      "     species_Iris-setosa  species_Iris-versicolor  species_Iris-virginica  \n",
      "145                False                    False                    True  \n",
      "146                False                    False                    True  \n",
      "147                False                    False                    True  \n",
      "148                False                    False                    True  \n",
      "149                False                    False                    True  \n"
     ]
    }
   ],
   "source": [
    "print(iris_data_encoded.tail())"
   ]
  },
  {
   "cell_type": "code",
   "execution_count": null,
   "id": "17fe5dfd",
   "metadata": {},
   "outputs": [],
   "source": []
  }
 ],
 "metadata": {
  "kernelspec": {
   "display_name": "Python 3 (ipykernel)",
   "language": "python",
   "name": "python3"
  },
  "language_info": {
   "codemirror_mode": {
    "name": "ipython",
    "version": 3
   },
   "file_extension": ".py",
   "mimetype": "text/x-python",
   "name": "python",
   "nbconvert_exporter": "python",
   "pygments_lexer": "ipython3",
   "version": "3.11.5"
  }
 },
 "nbformat": 4,
 "nbformat_minor": 5
}
